{
 "cells": [
  {
   "cell_type": "markdown",
   "source": [
    "# Categorize by merchant name\n",
    "\n",
    "To run this notebook it is necessary to have the following packages installed:\n",
    "- pandas\n",
    "- beautifulsoup4\n",
    "- requests"
   ],
   "metadata": {
    "collapsed": false
   }
  },
  {
   "cell_type": "code",
   "execution_count": null,
   "outputs": [],
   "source": [
    "import bs4\n",
    "import pandas as pd\n",
    "import requests\n",
    "import time\n",
    "import json"
   ],
   "metadata": {
    "collapsed": false,
    "ExecuteTime": {
     "start_time": "2023-04-27T12:53:02.981659Z",
     "end_time": "2023-04-27T12:53:02.990723Z"
    }
   }
  },
  {
   "cell_type": "markdown",
   "source": [
    "### Load needed functions"
   ],
   "metadata": {
    "collapsed": false
   }
  },
  {
   "cell_type": "code",
   "execution_count": null,
   "outputs": [],
   "source": [
    "def search_google(term: str):\n",
    "    url = f'https://google.com/search?q={term}'\n",
    "    headers = {'User-Agent': 'Mozilla/5.0 (Macintosh; Intel Mac OS X 10_15_6) AppleWebKit/537.36 (KHTML, like Gecko) Chrome/87.0.4280.88 Safari/537.36'}\n",
    "\n",
    "    request_result = requests.get(url, headers=headers)\n",
    "    soup = bs4.BeautifulSoup(request_result.text,\n",
    "                             \"html.parser\")\n",
    "\n",
    "    return [s.getText() for s in soup.find_all(\"div\", class_='VwiC3b yXK7lf MUxGbd yDYNvb lyLwlc lEBKkf')]\n",
    "\n",
    "def get_query_category_message(commerce: str, commerce_description: str, cat_spect: str) -> str:\n",
    "    return f'''Tengo la siguiente lista de categorías: {cat_spect}\n",
    "\n",
    "    Tengo un comercio llamado \"{commerce}\" con las siguiente descripción: \"{commerce_description}\".\n",
    "\n",
    "    ¿Cual sería su categoría?. Si no puedes categorizar, asigna el valor SIN CLASIFICAR.\n",
    "    Responde únicamente con la categoría, sin correcciones ortográficas y que no acabe en punto.'''\n",
    "\n",
    "def call_chat_completion(message: str) -> str:\n",
    "    url = 'https://api.openai.com/v1/chat/completions'\n",
    "    headers = {'Content-Type': 'application/json',\n",
    "               'Authorization': f'Bearer {api_key}'}\n",
    "    data = {\n",
    "        \"model\": \"gpt-3.5-turbo\",\n",
    "        \"messages\": [{\"role\": \"user\", \"content\": f\"{message}\"}],\n",
    "        \"temperature\": 0,\n",
    "        \"max_tokens\": 100\n",
    "    }\n",
    "\n",
    "    response = requests.post(url, headers=headers, json=data)\n",
    "\n",
    "    if response.status_code == 200:\n",
    "        answer = response.json()['choices'][0]['message']['content']\n",
    "        return answer\n",
    "    else:\n",
    "        raise Exception(f'Error: {response.text}')\n",
    "\n",
    "\n",
    "def call_text_completion(message: str) -> str:\n",
    "    url = 'https://api.openai.com/v1/completions'\n",
    "\n",
    "    headers = {'Content-Type': 'application/json',\n",
    "               'Authorization': f'Bearer {api_key}'}\n",
    "\n",
    "    data = {\n",
    "        \"model\": \"text-davinci-003\",\n",
    "        \"prompt\": f\"{message}\",\n",
    "        \"temperature\": 0,\n",
    "        \"max_tokens\": 100\n",
    "    }\n",
    "\n",
    "    response = requests.post(url, headers=headers, json=data)\n",
    "\n",
    "    if response.status_code == 200:\n",
    "        answer = response.json()['choices'][0]['text']\n",
    "        return answer\n",
    "    else:\n",
    "        raise Exception(f'Error: {response.text}')\n",
    "\n",
    "def select_category(_commerce: str) -> dict:\n",
    "    commerce_description = search_google(_commerce)\n",
    "    query_category_message = get_query_category_message(_commerce, commerce_description[0], cat_spect)\n",
    "    category = call_chat_completion(query_category_message).strip()\n",
    "    return {'commerce': commerce, 'category': category}"
   ],
   "metadata": {
    "collapsed": false,
    "ExecuteTime": {
     "start_time": "2023-04-27T12:53:02.988652Z",
     "end_time": "2023-04-27T12:53:02.992077Z"
    }
   }
  },
  {
   "cell_type": "code",
   "execution_count": null,
   "outputs": [],
   "source": [
    "### Load parameters"
   ],
   "metadata": {
    "collapsed": false
   }
  },
  {
   "cell_type": "code",
   "execution_count": null,
   "outputs": [],
   "source": [
    "merchant_names = ['LA CAVERNA DE VOLTIR', 'DOMINOS PIZZA CORDOBA']\n",
    "cat_spect = json.dumps([\"ALQUILER DE VEHÍCULOS\",\n",
    "                        \"AUTOPISTAS GASOLINERAS Y PARKINGS\",\n",
    "                        \"JUEGOS Y APUESTAS\",\n",
    "                        \"MODA\",\n",
    "                        \"DEPORTES Y JUGUETES\",\n",
    "                        \"MENAJE DEL HOGAR Y ELECTRÓNICA\",\n",
    "                        \"BRICOLAJE Y JARDINERÍA\",\n",
    "                        \"GRANDES ALMACENES\",\n",
    "                        \"MUEBLES Y DECORACIÓN\",\n",
    "                        \"OCIO\",\n",
    "                        \"RESTAURACIÓN\",\n",
    "                        \"SUPERMERCADOS Y ALIMENTACIÓN\",\n",
    "                        \"TRANSPORTE (NO AÉREO)\",\n",
    "                        \"TELECOMUNICACIONES TELEVISIÓN E INTERNET\",\n",
    "                        \"VEHíCULOS Y REPARACIONES\",\n",
    "                        \"VIAJES HOTELES Y LÍNEAS AÉREAS\",\n",
    "                        \"OPERACIONES CAJERO\",\n",
    "                        \"COMPRA ONLINE\",\n",
    "                        \"PRODUCTOS Y SERVICIOS DIGITALES\",\n",
    "                        \"SALUD Y BELLEZA\",\n",
    "                        \"EDUCACIÓN\",\n",
    "                        \"SEGUROS\",\n",
    "                        \"TASAS E IMPUESTOS\",\n",
    "                        \"JOYERÍA\",\n",
    "                        \"AGUA\",\n",
    "                        \"GAS Y ELECTRICIDAD\",\n",
    "                        \"COMUNIDADES DE PROPIETARIOS\",\n",
    "                        \"ALQUILER\",\n",
    "                        \"SEGURIDAD SOCIAL\",\n",
    "                        \"CUOTAS Y ENTIDADES FINANCIERAS\",\n",
    "                        \"SOCIEDADES BENÉFICAS\",\n",
    "                        \"TRANSFERENCIAS DE SALIDA\",\n",
    "                        \"COMISIONES\",\n",
    "                        \"PRODUCTOS FINANCIEROS\",\n",
    "                        \"CHEQUES\",\n",
    "                        \"TRASPASOS\",\n",
    "                        \"OPERACIONES EN OFICINA\",\n",
    "                        \"SINDICATOS TRABAJADORES\",\n",
    "                        \"COLEGIOS PROFESIONALES\",\n",
    "                        \"REVISTAS LIBROS Y PRENSA\",\n",
    "                        \"SISTEMAS DE SEGURIDAD\",\n",
    "                        \"GESTIÓN INMOBILIARIA\",\n",
    "                        \"PARTIDOS POLÍTICOS\",\n",
    "                        \"ASESORES GESTORÍAS Y ABOGADOS\",\n",
    "                        \"GASTO PAGO INMEDIATO\",\n",
    "                        \"SERVICIOS VETERINARIOS Y PRODUCTOS PARA MASCOTAS\",\n",
    "                        \"SEGUNDA MANO Y ANTIGÜEDADES\",\n",
    "                        \"SERVICIOS AGRÍCOLAS\",\n",
    "                        \"TINTORERÍAS, LAVANDERÍAS Y SERVICIOS DE ROPA\",\n",
    "                        \"TRANSPORTE DE MERCANCÍAS Y SERVICIOS POSTALES\",\n",
    "                        \"AMORTIZACIONES EVO BANCO\",\n",
    "                        \"OPERACIONES CAJERO SIN TARJETA\",\n",
    "                        \"OTROS GASTOS\",\n",
    "                        \"SIN CLASIFICAR\"], ensure_ascii=False)\n",
    "api_key = 'insert your api-key'"
   ],
   "metadata": {
    "collapsed": false,
    "ExecuteTime": {
     "start_time": "2023-04-27T12:53:37.293622Z",
     "end_time": "2023-04-27T12:53:37.295714Z"
    }
   }
  },
  {
   "cell_type": "code",
   "execution_count": null,
   "outputs": [],
   "source": [
    "### Find categories"
   ],
   "metadata": {
    "collapsed": false
   }
  },
  {
   "cell_type": "code",
   "execution_count": null,
   "outputs": [],
   "source": [
    "categories = []\n",
    "for i, commerce in enumerate(merchant_names, start=1):\n",
    "    category = select_category(commerce)\n",
    "    categories.append(category)\n",
    "    if i % 3 == 0:\n",
    "        time.sleep(60)\n",
    "\n",
    "df = pd.DataFrame(data=categories)\n",
    "df.head()"
   ],
   "metadata": {
    "collapsed": false,
    "ExecuteTime": {
     "start_time": "2023-04-27T12:53:39.075666Z",
     "end_time": "2023-04-27T12:53:44.881417Z"
    }
   }
  }
 ],
 "metadata": {
  "kernelspec": {
   "display_name": "Python 3",
   "language": "python",
   "name": "python3"
  },
  "language_info": {
   "codemirror_mode": {
    "name": "ipython",
    "version": 2
   },
   "file_extension": ".py",
   "mimetype": "text/x-python",
   "name": "python",
   "nbconvert_exporter": "python",
   "pygments_lexer": "ipython2",
   "version": "2.7.6"
  }
 },
 "nbformat": 4,
 "nbformat_minor": 0
}
